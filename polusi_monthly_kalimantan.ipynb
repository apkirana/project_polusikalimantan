{
 "cells": [
  {
   "cell_type": "markdown",
   "metadata": {},
   "source": [
    "### Overview\n",
    " https://aqicn.org/scale/\n",
    " \n",
    " \t0 - 50 (Good): Air quality is considered satisfactory, and air pollution poses little or no risk.\n",
    "\t51 - 100 (Moderate): Air quality is acceptable; however, some pollutants might pose a moderate health concern for a very small number of people who are unusually sensitive to air pollution.\n",
    "\t101 - 150 (Unhealthy for Sensitive Groups): Members of sensitive groups may experience health effects. The general public is less likely to be affected.\n",
    "\t151 - 200 (Unhealthy): Everyone may begin to experience health effects, with sensitive groups possibly experiencing more serious effects.\n",
    "\t201 - 300 (Very Unhealthy): Health warnings of emergency conditions. The entire population is more likely to be affected.\n",
    "\t300+ (Hazardous): Health alert: everyone may experience more serious health effects.\n"
   ]
  },
  {
   "cell_type": "code",
   "execution_count": 58,
   "metadata": {},
   "outputs": [],
   "source": [
    "import pandas as pd"
   ]
  },
  {
   "cell_type": "markdown",
   "metadata": {},
   "source": [
    "#### Read Data + Cleaning"
   ]
  },
  {
   "cell_type": "code",
   "execution_count": 27,
   "metadata": {},
   "outputs": [
    {
     "name": "stdout",
     "output_type": "stream",
     "text": [
      "      date  pm 2.5               stasiun\n",
      "0  9/27/23    65.0  Balikpapan Sepinggan\n",
      "1  9/28/23    63.0  Balikpapan Sepinggan\n",
      "2  9/29/23    57.0  Balikpapan Sepinggan\n",
      "3  9/30/23    46.0  Balikpapan Sepinggan\n",
      "4  10/1/23    37.0  Balikpapan Sepinggan\n",
      "5  10/2/23    55.0  Balikpapan Sepinggan\n",
      "6  10/3/23    54.0  Balikpapan Sepinggan\n",
      "7  10/4/23    62.0  Balikpapan Sepinggan\n",
      "8  10/5/23    64.0  Balikpapan Sepinggan\n",
      "9  10/6/23    63.0  Balikpapan Sepinggan\n"
     ]
    }
   ],
   "source": [
    "# Load the data\n",
    "file_path = 'data/naivebayespolution.csv'\n",
    "data = pd.read_csv(file_path)\n",
    "\n",
    "# Clean the data\n",
    "# Dropping unnecessary columns\n",
    "data_cleaned = data[['date', 'pm 2.5', 'stasiun']].copy()\n",
    "\n",
    "\n",
    "# Remove rows with missing PM 2.5 values\n",
    "data_cleaned = data_cleaned.dropna(subset=['pm 2.5'])\n",
    "\n",
    "# Convert the 'pm 2.5' column to numeric\n",
    "data_cleaned['pm 2.5'] = pd.to_numeric(data_cleaned['pm 2.5'], errors='coerce')\n",
    "\n",
    "print(data_cleaned.head(10))"
   ]
  },
  {
   "cell_type": "markdown",
   "metadata": {},
   "source": [
    "#### Labelling Level AQI"
   ]
  },
  {
   "cell_type": "code",
   "execution_count": 59,
   "metadata": {},
   "outputs": [
    {
     "data": {
      "text/html": [
       "<div>\n",
       "<style scoped>\n",
       "    .dataframe tbody tr th:only-of-type {\n",
       "        vertical-align: middle;\n",
       "    }\n",
       "\n",
       "    .dataframe tbody tr th {\n",
       "        vertical-align: top;\n",
       "    }\n",
       "\n",
       "    .dataframe thead th {\n",
       "        text-align: right;\n",
       "    }\n",
       "</style>\n",
       "<table border=\"1\" class=\"dataframe\">\n",
       "  <thead>\n",
       "    <tr style=\"text-align: right;\">\n",
       "      <th></th>\n",
       "      <th>date</th>\n",
       "      <th>pm 2.5</th>\n",
       "      <th>stasiun</th>\n",
       "      <th>Pollution Level</th>\n",
       "    </tr>\n",
       "  </thead>\n",
       "  <tbody>\n",
       "    <tr>\n",
       "      <th>0</th>\n",
       "      <td>2023-09-27</td>\n",
       "      <td>65.0</td>\n",
       "      <td>Balikpapan Sepinggan</td>\n",
       "      <td>Moderate</td>\n",
       "    </tr>\n",
       "    <tr>\n",
       "      <th>1</th>\n",
       "      <td>2023-09-28</td>\n",
       "      <td>63.0</td>\n",
       "      <td>Balikpapan Sepinggan</td>\n",
       "      <td>Moderate</td>\n",
       "    </tr>\n",
       "    <tr>\n",
       "      <th>2</th>\n",
       "      <td>2023-09-29</td>\n",
       "      <td>57.0</td>\n",
       "      <td>Balikpapan Sepinggan</td>\n",
       "      <td>Moderate</td>\n",
       "    </tr>\n",
       "    <tr>\n",
       "      <th>3</th>\n",
       "      <td>2023-09-30</td>\n",
       "      <td>46.0</td>\n",
       "      <td>Balikpapan Sepinggan</td>\n",
       "      <td>Good</td>\n",
       "    </tr>\n",
       "    <tr>\n",
       "      <th>4</th>\n",
       "      <td>2023-10-01</td>\n",
       "      <td>37.0</td>\n",
       "      <td>Balikpapan Sepinggan</td>\n",
       "      <td>Good</td>\n",
       "    </tr>\n",
       "  </tbody>\n",
       "</table>\n",
       "</div>"
      ],
      "text/plain": [
       "        date  pm 2.5               stasiun Pollution Level\n",
       "0 2023-09-27    65.0  Balikpapan Sepinggan        Moderate\n",
       "1 2023-09-28    63.0  Balikpapan Sepinggan        Moderate\n",
       "2 2023-09-29    57.0  Balikpapan Sepinggan        Moderate\n",
       "3 2023-09-30    46.0  Balikpapan Sepinggan            Good\n",
       "4 2023-10-01    37.0  Balikpapan Sepinggan            Good"
      ]
     },
     "execution_count": 59,
     "metadata": {},
     "output_type": "execute_result"
    }
   ],
   "source": [
    "# Define the function to label the pollution level\n",
    "def label_aqi(pm25):\n",
    "    if pm25 <= 50:\n",
    "        return 'Good'\n",
    "    elif pm25 <= 100:\n",
    "        return 'Moderate'\n",
    "    elif pm25 <= 150:\n",
    "        return 'Unhealthy for Sensitive Groups'\n",
    "    elif pm25 <= 200:\n",
    "        return 'Unhealthy'\n",
    "    elif pm25 <= 300:\n",
    "        return 'Very Unhealthy'\n",
    "    else:\n",
    "        return 'Hazardous'\n",
    "\n",
    "# Apply the function to create a new column with labels\n",
    "data_cleaned['Pollution Level'] = data_cleaned['pm 2.5'].apply(label_aqi)\n",
    "\n",
    "# Display the labeled data\n",
    "data_cleaned.head()"
   ]
  },
  {
   "cell_type": "markdown",
   "metadata": {},
   "source": [
    "#### Giving ID Stasiun"
   ]
  },
  {
   "cell_type": "code",
   "execution_count": 63,
   "metadata": {},
   "outputs": [
    {
     "name": "stdout",
     "output_type": "stream",
     "text": [
      "        date  pm 2.5               stasiun  id_stasiun Pollution Level\n",
      "0 2023-09-27    65.0  Balikpapan Sepinggan           1        Moderate\n",
      "1 2023-09-28    63.0  Balikpapan Sepinggan           1        Moderate\n",
      "2 2023-09-29    57.0  Balikpapan Sepinggan           1        Moderate\n",
      "3 2023-09-30    46.0  Balikpapan Sepinggan           1            Good\n",
      "4 2023-10-01    37.0  Balikpapan Sepinggan           1            Good\n"
     ]
    }
   ],
   "source": [
    "# Assign unique ID to each station\n",
    "data_cleaned['id_stasiun'] = data_cleaned['stasiun'].factorize()[0] + 1\n",
    "\n",
    "# Reorder columns to place 'id_stasiun' next to 'stasiun'\n",
    "data_cleaned = data_cleaned[['date', 'pm 2.5', 'stasiun', 'id_stasiun', 'Pollution Level']]\n",
    "\n",
    "# Optionally, save the cleaned and labeled data to a new CSV file\n",
    "output_file_path = 'data/labeled_pollution_data.csv'\n",
    "data_cleaned.to_csv(output_file_path, index=False)\n",
    "\n",
    "# Display the result\n",
    "print(data_cleaned.head())"
   ]
  },
  {
   "cell_type": "markdown",
   "metadata": {},
   "source": [
    "###  **** Implementasi Naive Bayes ****\n",
    "#### Use Gaussian Naive Bayes classifier (read readme)"
   ]
  },
  {
   "cell_type": "code",
   "execution_count": 106,
   "metadata": {},
   "outputs": [],
   "source": [
    "from sklearn.model_selection import train_test_split\n",
    "from sklearn.naive_bayes import GaussianNB\n",
    "from sklearn.metrics import accuracy_score, classification_report\n",
    "from sklearn.preprocessing import LabelEncoder\n",
    "import numpy as np\n"
   ]
  },
  {
   "cell_type": "markdown",
   "metadata": {},
   "source": [
    "#### Load data cleaned file (previous step)"
   ]
  },
  {
   "cell_type": "code",
   "execution_count": 107,
   "metadata": {},
   "outputs": [],
   "source": [
    "\n",
    "file_path = 'data/labeled_pollution_data.csv'\n",
    "data = pd.read_csv(file_path)\n",
    "\n",
    "# Load the data\n",
    "data_cleaned\n",
    "\n",
    "# Clean the data: Keep relevant columns and handle missing values\n",
    "data_cleaned = data[['date', 'pm 2.5', 'stasiun']].copy()\n",
    "data_cleaned = data_cleaned.dropna(subset=['pm 2.5'])\n",
    "data_cleaned['pm 2.5'] = pd.to_numeric(data_cleaned['pm 2.5'], errors='coerce')\n"
   ]
  },
  {
   "cell_type": "code",
   "execution_count": 108,
   "metadata": {},
   "outputs": [],
   "source": [
    "# Convert date to datetime format\n",
    "data_cleaned['date'] = pd.to_datetime(data_cleaned['date'])"
   ]
  },
  {
   "cell_type": "markdown",
   "metadata": {},
   "source": [
    "#### Model for prediction monthly -> M"
   ]
  },
  {
   "cell_type": "code",
   "execution_count": 109,
   "metadata": {},
   "outputs": [
    {
     "name": "stdout",
     "output_type": "stream",
     "text": [
      "Columns after aggregation: Index(['date', 'stasiun', 'pm 2.5'], dtype='object')\n"
     ]
    }
   ],
   "source": [
    "# Aggregate data by month and station (you can change 'M' to 'W' for weekly)\n",
    "data_aggregated = data_cleaned.groupby([data_cleaned['date'].dt.to_period('M'), 'stasiun']).agg({'pm 2.5': 'mean'}).reset_index()\n",
    "\n",
    "# Debugging step: Print the columns to check if 'stasiun' exists\n",
    "print(\"Columns after aggregation:\", data_aggregated.columns)\n"
   ]
  },
  {
   "cell_type": "code",
   "execution_count": 110,
   "metadata": {},
   "outputs": [],
   "source": [
    "# Encode the station names AFTER aggregation\n",
    "label_encoder = LabelEncoder()\n",
    "data_aggregated['stasiun_encoded'] = label_encoder.fit_transform(data_aggregated['stasiun'])\n"
   ]
  },
  {
   "cell_type": "code",
   "execution_count": 111,
   "metadata": {},
   "outputs": [
    {
     "name": "stdout",
     "output_type": "stream",
     "text": [
      "Columns after encoding: Index(['date', 'stasiun', 'pm 2.5', 'stasiun_encoded'], dtype='object')\n",
      "      date                          stasiun   pm 2.5  stasiun_encoded\n",
      "0  2023-09             Balikpapan Sepinggan   57.750                0\n",
      "1  2023-09             Balikpapan sepinggan  333.000                1\n",
      "2  2023-09        Banjar Baru Landasan Ulin  161.875                2\n",
      "3  2023-09           Banjarmasin Kayu Tangi  130.750                3\n",
      "4  2023-09  Kabupaten Barito Selatan Sanggu  165.250                4\n"
     ]
    }
   ],
   "source": [
    "# Debugging step: Verify the stasiun_encoded column\n",
    "print(\"Columns after encoding:\", data_aggregated.columns)\n",
    "print(data_aggregated.head())  # Verify first few rows\n"
   ]
  },
  {
   "cell_type": "markdown",
   "metadata": {},
   "source": [
    "#### Labelling"
   ]
  },
  {
   "cell_type": "code",
   "execution_count": 112,
   "metadata": {},
   "outputs": [
    {
     "name": "stdout",
     "output_type": "stream",
     "text": [
      "0     1\n",
      "1     5\n",
      "2     3\n",
      "3     2\n",
      "4     3\n",
      "5     2\n",
      "6     0\n",
      "7     3\n",
      "8     2\n",
      "9     1\n",
      "10    2\n",
      "11    1\n",
      "12    2\n",
      "13    1\n",
      "14    2\n",
      "15    1\n",
      "16    2\n",
      "17    1\n",
      "18    1\n",
      "19    1\n",
      "20    1\n",
      "21    1\n",
      "22    0\n",
      "23    1\n",
      "24    1\n",
      "25    2\n",
      "26    1\n",
      "27    1\n",
      "28    1\n",
      "29    1\n",
      "30    1\n",
      "31    1\n",
      "32    1\n",
      "33    2\n",
      "34    1\n",
      "35    1\n",
      "36    1\n",
      "37    2\n",
      "38    2\n",
      "39    2\n",
      "40    3\n",
      "41    3\n",
      "42    3\n",
      "43    2\n",
      "44    2\n",
      "45    1\n",
      "46    2\n",
      "47    2\n",
      "48    1\n",
      "49    1\n",
      "50    1\n",
      "51    1\n",
      "52    1\n",
      "53    0\n",
      "Name: Pollution Level, dtype: int64\n"
     ]
    }
   ],
   "source": [
    "\n",
    "# Define a function to label pollution levels based on AQI\n",
    "def label_aqi(pm25):\n",
    "    if pm25 <= 50:\n",
    "        return 0  # Good\n",
    "    elif pm25 <= 100:\n",
    "        return 1  # Moderate\n",
    "    elif pm25 <= 150:\n",
    "        return 2  # Unhealthy for Sensitive Groups\n",
    "    elif pm25 <= 200:\n",
    "        return 3  # Unhealthy\n",
    "    elif pm25 <= 300:\n",
    "        return 4  # Very Unhealthy\n",
    "    else:\n",
    "        return 5  # Hazardous\n",
    "\n",
    "# Apply the labeling function to aggregated data\n",
    "data_aggregated['Pollution Level'] = data_aggregated['pm 2.5'].apply(label_aqi)\n",
    "\n",
    "# Create a dictionary to map numeric levels to descriptive labels\n",
    "level_description = {\n",
    "    0: 'Good',\n",
    "    1: 'Moderate',\n",
    "    2: 'Unhealthy for Sensitive Groups',\n",
    "    3: 'Unhealthy',\n",
    "    4: 'Very Unhealthy',\n",
    "    5: 'Hazardous'\n",
    "}\n",
    "\n",
    "print(data_aggregated['Pollution Level'])"
   ]
  },
  {
   "cell_type": "code",
   "execution_count": 113,
   "metadata": {},
   "outputs": [
    {
     "name": "stdout",
     "output_type": "stream",
     "text": [
      "Data after adding Pollution Level Description:\n",
      "      date                          stasiun   pm 2.5  stasiun_encoded  \\\n",
      "0  2023-09             Balikpapan Sepinggan   57.750                0   \n",
      "1  2023-09             Balikpapan sepinggan  333.000                1   \n",
      "2  2023-09        Banjar Baru Landasan Ulin  161.875                2   \n",
      "3  2023-09           Banjarmasin Kayu Tangi  130.750                3   \n",
      "4  2023-09  Kabupaten Barito Selatan Sanggu  165.250                4   \n",
      "\n",
      "   Pollution Level     Pollution Level Description  \n",
      "0                1                        Moderate  \n",
      "1                5                       Hazardous  \n",
      "2                3                       Unhealthy  \n",
      "3                2  Unhealthy for Sensitive Groups  \n",
      "4                3                       Unhealthy  \n"
     ]
    }
   ],
   "source": [
    "# Add a column with the descriptive pollution level\n",
    "data_aggregated['Pollution Level Description'] = data_aggregated['Pollution Level'].map(level_description)\n",
    "\n",
    "# Debugging step: Verify that the column was created successfully\n",
    "print(\"Data after adding Pollution Level Description:\")\n",
    "print(data_aggregated.head())\n"
   ]
  },
  {
   "cell_type": "code",
   "execution_count": 114,
   "metadata": {},
   "outputs": [],
   "source": [
    "# Prepare features and labels for the model\n",
    "X = data_aggregated[['stasiun_encoded', 'pm 2.5']]"
   ]
  },
  {
   "cell_type": "code",
   "execution_count": 115,
   "metadata": {},
   "outputs": [],
   "source": [
    "y = data_aggregated['Pollution Level']"
   ]
  },
  {
   "cell_type": "markdown",
   "metadata": {},
   "source": [
    "#### Training Process"
   ]
  },
  {
   "cell_type": "code",
   "execution_count": 116,
   "metadata": {},
   "outputs": [
    {
     "name": "stdout",
     "output_type": "stream",
     "text": [
      "Training Data: 79.63% (43 samples)\n",
      "Testing Data: 20.37% (11 samples)\n",
      "\n"
     ]
    }
   ],
   "source": [
    "# Split the data into training and testing sets (80% training, 20% testing)\n",
    "X_train, X_test, y_train, y_test = train_test_split(X, y, test_size=0.2, random_state=42)\n",
    "\n",
    "# Calculate and print the percentage of training and testing data\n",
    "train_percentage = len(X_train) / len(X) * 100\n",
    "test_percentage = len(X_test) / len(X) * 100\n",
    "\n",
    "print(f\"Training Data: {train_percentage:.2f}% ({len(X_train)} samples)\")\n",
    "print(f\"Testing Data: {test_percentage:.2f}% ({len(X_test)} samples)\\n\")"
   ]
  },
  {
   "cell_type": "code",
   "execution_count": 118,
   "metadata": {},
   "outputs": [
    {
     "name": "stdout",
     "output_type": "stream",
     "text": [
      "Model accuracy on test data: 0.9090909090909091\n"
     ]
    }
   ],
   "source": [
    "# Train the Gaussian Naive Bayes classifier\n",
    "classifier = GaussianNB()\n",
    "classifier.fit(X_train, y_train)\n",
    "\n",
    "# Predict the pollution level for the test data\n",
    "y_pred = classifier.predict(X_test)\n",
    "\n",
    "# Evaluate the model\n",
    "print(\"Model accuracy on test data:\", classifier.score(X_test, y_test))"
   ]
  },
  {
   "cell_type": "markdown",
   "metadata": {},
   "source": [
    "#### Print out result"
   ]
  },
  {
   "cell_type": "code",
   "execution_count": 2,
   "metadata": {},
   "outputs": [
    {
     "ename": "NameError",
     "evalue": "name 'classifier' is not defined",
     "output_type": "error",
     "traceback": [
      "\u001b[0;31m---------------------------------------------------------------------------\u001b[0m",
      "\u001b[0;31mNameError\u001b[0m                                 Traceback (most recent call last)",
      "Cell \u001b[0;32mIn[2], line 2\u001b[0m\n\u001b[1;32m      1\u001b[0m \u001b[38;5;66;03m# Predict the pollution level for the aggregated data\u001b[39;00m\n\u001b[0;32m----> 2\u001b[0m data_aggregated[\u001b[38;5;124m'\u001b[39m\u001b[38;5;124mPredicted Pollution Level\u001b[39m\u001b[38;5;124m'\u001b[39m] \u001b[38;5;241m=\u001b[39m \u001b[43mclassifier\u001b[49m\u001b[38;5;241m.\u001b[39mpredict(X)\n\u001b[1;32m      4\u001b[0m \u001b[38;5;66;03m# Add a descriptive label for predicted pollution levels\u001b[39;00m\n\u001b[1;32m      5\u001b[0m data_aggregated[\u001b[38;5;124m'\u001b[39m\u001b[38;5;124mPredicted Pollution Level Description\u001b[39m\u001b[38;5;124m'\u001b[39m] \u001b[38;5;241m=\u001b[39m data_aggregated[\u001b[38;5;124m'\u001b[39m\u001b[38;5;124mPredicted Pollution Level\u001b[39m\u001b[38;5;124m'\u001b[39m]\u001b[38;5;241m.\u001b[39mmap(level_description)\n",
      "\u001b[0;31mNameError\u001b[0m: name 'classifier' is not defined"
     ]
    }
   ],
   "source": [
    "\n",
    "# Predict the pollution level for the aggregated data\n",
    "data_aggregated['Predicted Pollution Level'] = classifier.predict(X)\n",
    "\n",
    "# Add a descriptive label for predicted pollution levels\n",
    "data_aggregated['Predicted Pollution Level Description'] = data_aggregated['Predicted Pollution Level'].map(level_description)\n",
    "\n",
    "# Debugging step: Verify that the predicted description column was created successfully\n",
    "print(\"Data after adding Predicted Pollution Level Description:\")\n",
    "print(data_aggregated.head())\n",
    "\n",
    "# Prepare the output: grouped by station and period with the classification result\n",
    "output = data_aggregated[['date', 'stasiun', 'pm 2.5', 'Pollution Level', 'Pollution Level Description', 'Predicted Pollution Level', 'Predicted Pollution Level Description']]"
   ]
  },
  {
   "cell_type": "code",
   "execution_count": 1,
   "metadata": {},
   "outputs": [
    {
     "ename": "NameError",
     "evalue": "name 'output' is not defined",
     "output_type": "error",
     "traceback": [
      "\u001b[0;31m---------------------------------------------------------------------------\u001b[0m",
      "\u001b[0;31mNameError\u001b[0m                                 Traceback (most recent call last)",
      "Cell \u001b[0;32mIn[1], line 3\u001b[0m\n\u001b[1;32m      1\u001b[0m \u001b[38;5;66;03m# Optionally, save the output to a CSV file\u001b[39;00m\n\u001b[1;32m      2\u001b[0m output_file_path \u001b[38;5;241m=\u001b[39m \u001b[38;5;124m'\u001b[39m\u001b[38;5;124mdata/result_station_classification_monthly.csv\u001b[39m\u001b[38;5;124m'\u001b[39m\n\u001b[0;32m----> 3\u001b[0m \u001b[43moutput\u001b[49m\u001b[38;5;241m.\u001b[39mto_csv(output_file_path, index\u001b[38;5;241m=\u001b[39m\u001b[38;5;28;01mFalse\u001b[39;00m)\n\u001b[1;32m      4\u001b[0m \u001b[38;5;66;03m# Display the first few rows of the output\u001b[39;00m\n\u001b[1;32m      5\u001b[0m \u001b[38;5;28mprint\u001b[39m(output\u001b[38;5;241m.\u001b[39mhead())\n",
      "\u001b[0;31mNameError\u001b[0m: name 'output' is not defined"
     ]
    }
   ],
   "source": [
    "# Optionally, save the output to a CSV file\n",
    "output_file_path = 'data/result_station_classification_monthly.csv'\n",
    "output.to_csv(output_file_path, index=False)\n",
    "# Display the first few rows of the output\n",
    "print(output.head())"
   ]
  }
 ],
 "metadata": {
  "kernelspec": {
   "display_name": "Python 3",
   "language": "python",
   "name": "python3"
  },
  "language_info": {
   "codemirror_mode": {
    "name": "ipython",
    "version": 3
   },
   "file_extension": ".py",
   "mimetype": "text/x-python",
   "name": "python",
   "nbconvert_exporter": "python",
   "pygments_lexer": "ipython3",
   "version": "3.9.6"
  }
 },
 "nbformat": 4,
 "nbformat_minor": 2
}
