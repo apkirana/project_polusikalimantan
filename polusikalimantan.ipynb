{
 "cells": [
  {
   "cell_type": "markdown",
   "metadata": {},
   "source": [
    "### Overview\n",
    " https://aqicn.org/scale/\n",
    " \n",
    " \t0 - 50 (Good): Air quality is considered satisfactory, and air pollution poses little or no risk.\n",
    "\t51 - 100 (Moderate): Air quality is acceptable; however, some pollutants might pose a moderate health concern for a very small number of people who are unusually sensitive to air pollution.\n",
    "\t101 - 150 (Unhealthy for Sensitive Groups): Members of sensitive groups may experience health effects. The general public is less likely to be affected.\n",
    "\t151 - 200 (Unhealthy): Everyone may begin to experience health effects, with sensitive groups possibly experiencing more serious effects.\n",
    "\t201 - 300 (Very Unhealthy): Health warnings of emergency conditions. The entire population is more likely to be affected.\n",
    "\t300+ (Hazardous): Health alert: everyone may experience more serious health effects.\n"
   ]
  },
  {
   "cell_type": "code",
   "execution_count": 2,
   "metadata": {},
   "outputs": [],
   "source": [
    "import pandas as pd"
   ]
  },
  {
   "cell_type": "markdown",
   "metadata": {},
   "source": [
    "### Read Data + Cleaning"
   ]
  },
  {
   "cell_type": "code",
   "execution_count": 6,
   "metadata": {},
   "outputs": [
    {
     "name": "stdout",
     "output_type": "stream",
     "text": [
      "      date  pm 2.5               stasiun\n",
      "0  9/27/23    65.0  Balikpapan Sepinggan\n",
      "1  9/28/23    63.0  Balikpapan Sepinggan\n",
      "2  9/29/23    57.0  Balikpapan Sepinggan\n",
      "3  9/30/23    46.0  Balikpapan Sepinggan\n",
      "4  10/1/23    37.0  Balikpapan Sepinggan\n",
      "5  10/2/23    55.0  Balikpapan Sepinggan\n",
      "6  10/3/23    54.0  Balikpapan Sepinggan\n",
      "7  10/4/23    62.0  Balikpapan Sepinggan\n",
      "8  10/5/23    64.0  Balikpapan Sepinggan\n",
      "9  10/6/23    63.0  Balikpapan Sepinggan\n"
     ]
    }
   ],
   "source": [
    "# Load the data\n",
    "file_path = 'data/naivebayespolution.csv'\n",
    "data = pd.read_csv(file_path)\n",
    "\n",
    "# Clean the data\n",
    "# Dropping unnecessary columns\n",
    "data_cleaned = data[['date', 'pm 2.5', 'stasiun']].copy()\n",
    "\n",
    "\n",
    "# Remove rows with missing PM 2.5 values\n",
    "data_cleaned = data_cleaned.dropna(subset=['pm 2.5'])\n",
    "\n",
    "# Convert the 'pm 2.5' column to numeric\n",
    "data_cleaned['pm 2.5'] = pd.to_numeric(data_cleaned['pm 2.5'], errors='coerce')\n",
    "\n",
    "print(data_cleaned.head(10))"
   ]
  },
  {
   "cell_type": "markdown",
   "metadata": {},
   "source": [
    "### Labelling Level AQI"
   ]
  },
  {
   "cell_type": "code",
   "execution_count": 7,
   "metadata": {},
   "outputs": [
    {
     "data": {
      "text/html": [
       "<div>\n",
       "<style scoped>\n",
       "    .dataframe tbody tr th:only-of-type {\n",
       "        vertical-align: middle;\n",
       "    }\n",
       "\n",
       "    .dataframe tbody tr th {\n",
       "        vertical-align: top;\n",
       "    }\n",
       "\n",
       "    .dataframe thead th {\n",
       "        text-align: right;\n",
       "    }\n",
       "</style>\n",
       "<table border=\"1\" class=\"dataframe\">\n",
       "  <thead>\n",
       "    <tr style=\"text-align: right;\">\n",
       "      <th></th>\n",
       "      <th>date</th>\n",
       "      <th>pm 2.5</th>\n",
       "      <th>stasiun</th>\n",
       "      <th>Pollution Level</th>\n",
       "    </tr>\n",
       "  </thead>\n",
       "  <tbody>\n",
       "    <tr>\n",
       "      <th>0</th>\n",
       "      <td>9/27/23</td>\n",
       "      <td>65.0</td>\n",
       "      <td>Balikpapan Sepinggan</td>\n",
       "      <td>Moderate</td>\n",
       "    </tr>\n",
       "    <tr>\n",
       "      <th>1</th>\n",
       "      <td>9/28/23</td>\n",
       "      <td>63.0</td>\n",
       "      <td>Balikpapan Sepinggan</td>\n",
       "      <td>Moderate</td>\n",
       "    </tr>\n",
       "    <tr>\n",
       "      <th>2</th>\n",
       "      <td>9/29/23</td>\n",
       "      <td>57.0</td>\n",
       "      <td>Balikpapan Sepinggan</td>\n",
       "      <td>Moderate</td>\n",
       "    </tr>\n",
       "    <tr>\n",
       "      <th>3</th>\n",
       "      <td>9/30/23</td>\n",
       "      <td>46.0</td>\n",
       "      <td>Balikpapan Sepinggan</td>\n",
       "      <td>Good</td>\n",
       "    </tr>\n",
       "    <tr>\n",
       "      <th>4</th>\n",
       "      <td>10/1/23</td>\n",
       "      <td>37.0</td>\n",
       "      <td>Balikpapan Sepinggan</td>\n",
       "      <td>Good</td>\n",
       "    </tr>\n",
       "  </tbody>\n",
       "</table>\n",
       "</div>"
      ],
      "text/plain": [
       "      date  pm 2.5               stasiun Pollution Level\n",
       "0  9/27/23    65.0  Balikpapan Sepinggan        Moderate\n",
       "1  9/28/23    63.0  Balikpapan Sepinggan        Moderate\n",
       "2  9/29/23    57.0  Balikpapan Sepinggan        Moderate\n",
       "3  9/30/23    46.0  Balikpapan Sepinggan            Good\n",
       "4  10/1/23    37.0  Balikpapan Sepinggan            Good"
      ]
     },
     "execution_count": 7,
     "metadata": {},
     "output_type": "execute_result"
    }
   ],
   "source": [
    "# Define the function to label the pollution level\n",
    "def label_aqi(pm25):\n",
    "    if pm25 <= 50:\n",
    "        return 'Good'\n",
    "    elif pm25 <= 100:\n",
    "        return 'Moderate'\n",
    "    elif pm25 <= 150:\n",
    "        return 'Unhealthy for Sensitive Groups'\n",
    "    elif pm25 <= 200:\n",
    "        return 'Unhealthy'\n",
    "    elif pm25 <= 300:\n",
    "        return 'Very Unhealthy'\n",
    "    else:\n",
    "        return 'Hazardous'\n",
    "\n",
    "# Apply the function to create a new column with labels\n",
    "data_cleaned['Pollution Level'] = data_cleaned['pm 2.5'].apply(label_aqi)\n",
    "\n",
    "# Display the labeled data\n",
    "data_cleaned.head()"
   ]
  },
  {
   "cell_type": "markdown",
   "metadata": {},
   "source": [
    "### Giving ID Stasiun"
   ]
  },
  {
   "cell_type": "code",
   "execution_count": 8,
   "metadata": {},
   "outputs": [
    {
     "name": "stdout",
     "output_type": "stream",
     "text": [
      "      date  pm 2.5               stasiun  id_stasiun Pollution Level\n",
      "0  9/27/23    65.0  Balikpapan Sepinggan           1        Moderate\n",
      "1  9/28/23    63.0  Balikpapan Sepinggan           1        Moderate\n",
      "2  9/29/23    57.0  Balikpapan Sepinggan           1        Moderate\n",
      "3  9/30/23    46.0  Balikpapan Sepinggan           1            Good\n",
      "4  10/1/23    37.0  Balikpapan Sepinggan           1            Good\n"
     ]
    }
   ],
   "source": [
    "# Assign unique ID to each station\n",
    "data_cleaned['id_stasiun'] = data_cleaned['stasiun'].factorize()[0] + 1\n",
    "\n",
    "# Reorder columns to place 'id_stasiun' next to 'stasiun'\n",
    "data_cleaned = data_cleaned[['date', 'pm 2.5', 'stasiun', 'id_stasiun', 'Pollution Level']]\n",
    "\n",
    "# Optionally, save the cleaned and labeled data to a new CSV file\n",
    "output_file_path = 'labeled_pollution_data.csv'\n",
    "data_cleaned.to_csv(output_file_path, index=False)\n",
    "\n",
    "# Display the result\n",
    "print(data_cleaned.head())"
   ]
  }
 ],
 "metadata": {
  "kernelspec": {
   "display_name": "Python 3",
   "language": "python",
   "name": "python3"
  },
  "language_info": {
   "codemirror_mode": {
    "name": "ipython",
    "version": 3
   },
   "file_extension": ".py",
   "mimetype": "text/x-python",
   "name": "python",
   "nbconvert_exporter": "python",
   "pygments_lexer": "ipython3",
   "version": "3.9.6"
  }
 },
 "nbformat": 4,
 "nbformat_minor": 2
}
